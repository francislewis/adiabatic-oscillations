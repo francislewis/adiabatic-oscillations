{
 "cells": [
  {
   "cell_type": "markdown",
   "metadata": {},
   "source": [
    "## Ruchdart Method - CO<sub>2</sub>"
   ]
  },
  {
   "cell_type": "markdown",
   "metadata": {},
   "source": [
    "Import Modules"
   ]
  },
  {
   "cell_type": "code",
   "execution_count": 1,
   "metadata": {},
   "outputs": [],
   "source": [
    "import math\n",
    "import numpy as np\n",
    "import pandas as pd"
   ]
  },
  {
   "cell_type": "markdown",
   "metadata": {},
   "source": [
    "Initialise function for gamma and the error on gamma"
   ]
  },
  {
   "cell_type": "code",
   "execution_count": 2,
   "metadata": {},
   "outputs": [],
   "source": [
    "def rinkelWithError(m,V,P,A,L,EoM,EoV,EoA,EoP,EoL):\n",
    "   \n",
    "    gamma = (2*(m*(10**(-3)))*9.81*V)/(P*L*(A**2))\n",
    "\n",
    "    #Error Contributions from partial derivatives\n",
    "    CoM=gamma/m\n",
    "    CoV=gamma/V\n",
    "    CoA=-(2*gamma)/A\n",
    "    CoP=-(gamma)/P\n",
    "    CoL=-(gamma)/L\n",
    "    \n",
    "    #Breaking up the calculation\n",
    "    err_mass=(CoM**2)*(EoM**2)\n",
    "    err_vol=(CoV**2)*(EoV**2)\n",
    "    err_area=(CoA**2)*(EoA**2)\n",
    "    err_pressure=(CoP**2)*(EoP**2)\n",
    "    err_length=(CoL**2)*(EoL**2)\n",
    "    \n",
    "    #Cobmine contributions\n",
    "    gamma_error=(err_mass+err_vol+err_area+err_pressure+err_length)**(1/2)\n",
    "    \n",
    "    \n",
    "    return gamma,gamma_error"
   ]
  },
  {
   "cell_type": "markdown",
   "metadata": {},
   "source": [
    "Set the fixed variables, these were manually found from the videos in `data/raw/CO2/Rinkel_Method/`\n",
    "\n",
    "Also intialise some arrays to store the found values outside the main loop"
   ]
  },
  {
   "cell_type": "code",
   "execution_count": 3,
   "metadata": {},
   "outputs": [],
   "source": [
    "air_lengths_ball_1=[51,52.5,53]\n",
    "air_lengths_ball_2=[75,75.5,76]\n",
    "air_lengths_ball_3=[27,26.5,27]\n",
    "\n",
    "air_pressures=[974.3,974.3,974.5]\n",
    "m=[25.3352,35.8999,13.4999]   #Ball Masses\n",
    "V=12.85 *(10**(-3))\n",
    "d=20 *(10 **(-3))\n",
    "A=math.pi*((d/2)**2)\n",
    "\n",
    "#Errors\n",
    "EoM=10**(-7)\n",
    "EoV=10**(-4)\n",
    "EoA=(math.pi)*(10**(-6))\n",
    "EoP=10\n",
    "EoL=0.01\n",
    "\n",
    "#Intialise arrays for found values\n",
    "gamma_vals_air=[]\n",
    "gamma_errs_air=[]"
   ]
  },
  {
   "cell_type": "markdown",
   "metadata": {},
   "source": [
    "This is the main code, it simply loops through every run, calls the `rinkelWithError` function and stores all the results."
   ]
  },
  {
   "cell_type": "code",
   "execution_count": 4,
   "metadata": {},
   "outputs": [
    {
     "name": "stdout",
     "output_type": "stream",
     "text": [
      "Ball Number: 1\n",
      "Run Number: 1\n",
      "1.3024583481239067\n",
      "Run Number: 2\n",
      "1.2652452524632234\n",
      "Run Number: 3\n",
      "1.2533089764965895\n",
      "Ball Number: 2\n",
      "Run Number: 1\n",
      "1.2549940251994511\n",
      "Run Number: 2\n",
      "1.2466828064895212\n",
      "Run Number: 3\n",
      "1.2384809459205108\n",
      "Ball Number: 3\n",
      "Run Number: 1\n",
      "1.3106518027535892\n",
      "Run Number: 2\n",
      "1.3353810820508265\n",
      "Run Number: 3\n",
      "1.3106518027535892\n",
      "\n",
      "\n",
      "              Rinkel Method - Co2\n"
     ]
    },
    {
     "data": {
      "text/html": [
       "<div>\n",
       "<style scoped>\n",
       "    .dataframe tbody tr th:only-of-type {\n",
       "        vertical-align: middle;\n",
       "    }\n",
       "\n",
       "    .dataframe tbody tr th {\n",
       "        vertical-align: top;\n",
       "    }\n",
       "\n",
       "    .dataframe thead th {\n",
       "        text-align: right;\n",
       "    }\n",
       "</style>\n",
       "<table border=\"1\" class=\"dataframe\">\n",
       "  <thead>\n",
       "    <tr style=\"text-align: right;\">\n",
       "      <th></th>\n",
       "      <th>Ball Number</th>\n",
       "      <th>Run Number</th>\n",
       "      <th>Gamma</th>\n",
       "      <th>Error on Gamma</th>\n",
       "    </tr>\n",
       "  </thead>\n",
       "  <tbody>\n",
       "    <tr>\n",
       "      <th>0</th>\n",
       "      <td>1</td>\n",
       "      <td>1</td>\n",
       "      <td>1.302458</td>\n",
       "      <td>0.030985</td>\n",
       "    </tr>\n",
       "    <tr>\n",
       "      <th>1</th>\n",
       "      <td>1</td>\n",
       "      <td>2</td>\n",
       "      <td>1.265245</td>\n",
       "      <td>0.030100</td>\n",
       "    </tr>\n",
       "    <tr>\n",
       "      <th>2</th>\n",
       "      <td>1</td>\n",
       "      <td>3</td>\n",
       "      <td>1.253309</td>\n",
       "      <td>0.029816</td>\n",
       "    </tr>\n",
       "    <tr>\n",
       "      <th>3</th>\n",
       "      <td>2</td>\n",
       "      <td>1</td>\n",
       "      <td>1.254994</td>\n",
       "      <td>0.029855</td>\n",
       "    </tr>\n",
       "    <tr>\n",
       "      <th>4</th>\n",
       "      <td>2</td>\n",
       "      <td>2</td>\n",
       "      <td>1.246683</td>\n",
       "      <td>0.029658</td>\n",
       "    </tr>\n",
       "    <tr>\n",
       "      <th>5</th>\n",
       "      <td>2</td>\n",
       "      <td>3</td>\n",
       "      <td>1.238481</td>\n",
       "      <td>0.029462</td>\n",
       "    </tr>\n",
       "    <tr>\n",
       "      <th>6</th>\n",
       "      <td>3</td>\n",
       "      <td>1</td>\n",
       "      <td>1.310652</td>\n",
       "      <td>0.031181</td>\n",
       "    </tr>\n",
       "    <tr>\n",
       "      <th>7</th>\n",
       "      <td>3</td>\n",
       "      <td>2</td>\n",
       "      <td>1.335381</td>\n",
       "      <td>0.031770</td>\n",
       "    </tr>\n",
       "    <tr>\n",
       "      <th>8</th>\n",
       "      <td>3</td>\n",
       "      <td>3</td>\n",
       "      <td>1.310652</td>\n",
       "      <td>0.031181</td>\n",
       "    </tr>\n",
       "  </tbody>\n",
       "</table>\n",
       "</div>"
      ],
      "text/plain": [
       "   Ball Number  Run Number     Gamma  Error on Gamma\n",
       "0            1           1  1.302458        0.030985\n",
       "1            1           2  1.265245        0.030100\n",
       "2            1           3  1.253309        0.029816\n",
       "3            2           1  1.254994        0.029855\n",
       "4            2           2  1.246683        0.029658\n",
       "5            2           3  1.238481        0.029462\n",
       "6            3           1  1.310652        0.031181\n",
       "7            3           2  1.335381        0.031770\n",
       "8            3           3  1.310652        0.031181"
      ]
     },
     "metadata": {},
     "output_type": "display_data"
    },
    {
     "name": "stdout",
     "output_type": "stream",
     "text": [
      "Mean gamma : 1.2797616713612454\n",
      "Error on Mean Gamma: 0.010151840383824355\n"
     ]
    }
   ],
   "source": [
    "for ballnumber in range(1,4): \n",
    "    print(\"Ball Number: \"+str(ballnumber))\n",
    "    for runnumber in range(1,4): \n",
    "            print(\"Run Number: \"+str(runnumber))\n",
    "            if ballnumber==1:\n",
    "                value_air, error_air = rinkelWithError(m[ballnumber-1],V,air_pressures[ballnumber-1],A,air_lengths_ball_1[runnumber-1],EoM,EoV,EoA,EoP,EoL)\n",
    "                gamma_vals_air.append(value_air)\n",
    "                gamma_errs_air.append(error_air)\n",
    "                print(value_air)\n",
    "\n",
    "            if ballnumber==2:\n",
    "                value_air, error_air = rinkelWithError(m[ballnumber-1],V,air_pressures[ballnumber-1],A,air_lengths_ball_2[runnumber-1],EoM,EoV,EoA,EoP,EoL)\n",
    "                gamma_vals_air.append(value_air)\n",
    "                gamma_errs_air.append(error_air)\n",
    "                print(value_air)\n",
    "            if ballnumber==3:\n",
    "                value_air, error_air = rinkelWithError(m[ballnumber-1],V,air_pressures[ballnumber-1],A,air_lengths_ball_3[runnumber-1],EoM,EoV,EoA,EoP,EoL)\n",
    "                gamma_vals_air.append(value_air)\n",
    "                gamma_errs_air.append(error_air)\n",
    "                print(value_air)\n",
    "\n",
    "print(\"\")\n",
    "print(\"\")\n",
    "print(\"              Rinkel Method - Co2\")    \n",
    "\n",
    "#Make a nice table \n",
    "dict={'Ball Number': [1,1,1,2,2,2,3,3,3], 'Run Number':[1,2,3,1,2,3,1,2,3], 'Gamma': gamma_vals_air, 'Error on Gamma': gamma_errs_air}\n",
    "df=pd.DataFrame(dict)\n",
    "df.style.set_caption(\"Hello World\")\n",
    "display(df)\n",
    "\n",
    "#Combining errors when averaging results\n",
    "sumerravg=[((i)**2)/81 for i in gamma_errs_air]\n",
    "\n",
    "#Print Final Results \n",
    "print(\"Mean gamma : \"+str(np.mean(gamma_vals_air)))\n",
    "print(\"Error on Mean Gamma: \"+str((np.sum(sumerravg))**(1/2)))\n"
   ]
  },
  {
   "cell_type": "markdown",
   "metadata": {},
   "source": [
    "If you get any errors here, re-run all cells in descending order :)"
   ]
  }
 ],
 "metadata": {
  "kernelspec": {
   "display_name": "Python 3",
   "language": "python",
   "name": "python3"
  },
  "language_info": {
   "codemirror_mode": {
    "name": "ipython",
    "version": 3
   },
   "file_extension": ".py",
   "mimetype": "text/x-python",
   "name": "python",
   "nbconvert_exporter": "python",
   "pygments_lexer": "ipython3",
   "version": "3.8.3"
  }
 },
 "nbformat": 4,
 "nbformat_minor": 4
}
